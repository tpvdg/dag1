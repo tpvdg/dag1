{
 "cells": [
  {
   "cell_type": "code",
   "execution_count": 2,
   "id": "9276a355-616e-4fb3-bd9a-36806c0da2fd",
   "metadata": {},
   "outputs": [
    {
     "name": "stdout",
     "output_type": "stream",
     "text": [
      "Start API read application\n",
      "<Response [200]>\n"
     ]
    }
   ],
   "source": [
    "print(\"Start API read application\")\n",
    "\n",
    "import requests\n",
    "\n",
    "paginaresults = requests.get(\"https://catfact.ninja/facts\")\n",
    "print(paginaresults)\n",
    "\n",
    "feitjes = paginaresults.json()\n",
    "\n",
    "eerstefeitje = feitjes[\"data\"][0]"
   ]
  },
  {
   "cell_type": "code",
   "execution_count": null,
   "id": "2eadf978-69b7-4687-994d-ec3917ae9865",
   "metadata": {},
   "outputs": [],
   "source": []
  }
 ],
 "metadata": {
  "kernelspec": {
   "display_name": "Python 3 (ipykernel)",
   "language": "python",
   "name": "python3"
  },
  "language_info": {
   "codemirror_mode": {
    "name": "ipython",
    "version": 3
   },
   "file_extension": ".py",
   "mimetype": "text/x-python",
   "name": "python",
   "nbconvert_exporter": "python",
   "pygments_lexer": "ipython3",
   "version": "3.12.2"
  }
 },
 "nbformat": 4,
 "nbformat_minor": 5
}
